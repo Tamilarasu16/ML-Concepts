{
 "cells": [
  {
   "cell_type": "markdown",
   "id": "6fe2454b",
   "metadata": {},
   "source": [
    "# Training a Binary Classifier"
   ]
  },
  {
   "cell_type": "markdown",
   "id": "b718ccac",
   "metadata": {},
   "source": [
    "You need to train a simple classifier\n",
    "Train a logistic regression in scikit-learn using Logistic Regression"
   ]
  },
  {
   "cell_type": "code",
   "execution_count": 1,
   "id": "a12b3771",
   "metadata": {},
   "outputs": [],
   "source": [
    "# Load Libraries\n",
    "from sklearn.linear_model import LogisticRegression\n",
    "from sklearn import datasets\n",
    "from sklearn.preprocessing import StandardScaler"
   ]
  },
  {
   "cell_type": "code",
   "execution_count": 2,
   "id": "ce8aff04",
   "metadata": {},
   "outputs": [],
   "source": [
    "# Load data with only two classes\n",
    "iris = datasets.load_iris()\n",
    "features = iris.data[:100,:]\n",
    "target = iris.target[:100]"
   ]
  },
  {
   "cell_type": "code",
   "execution_count": 4,
   "id": "a6e8253f",
   "metadata": {},
   "outputs": [],
   "source": [
    "# Standardize features\n",
    "scaler = StandardScaler()\n",
    "features_standardized = scaler.fit_transform(features)"
   ]
  },
  {
   "cell_type": "code",
   "execution_count": 5,
   "id": "df09eba5",
   "metadata": {},
   "outputs": [],
   "source": [
    "# create logistic regression object\n",
    "logistic_regression = LogisticRegression(random_state=0)\n"
   ]
  },
  {
   "cell_type": "code",
   "execution_count": 6,
   "id": "aac41b38",
   "metadata": {},
   "outputs": [],
   "source": [
    "# train model\n",
    "model = logistic_regression.fit(features_standardized, target)"
   ]
  },
  {
   "cell_type": "markdown",
   "id": "d13d48f0",
   "metadata": {},
   "source": [
    "# Formula"
   ]
  },
  {
   "cell_type": "markdown",
   "id": "1926907e",
   "metadata": {},
   "source": [
    "Once the model is trained we can use the model to predict the class of new observation"
   ]
  },
  {
   "cell_type": "code",
   "execution_count": 7,
   "id": "1d72e518",
   "metadata": {},
   "outputs": [],
   "source": [
    "# Create new observation\n",
    "new_observation = [[.5,.5,.5,.5]]"
   ]
  },
  {
   "cell_type": "code",
   "execution_count": 8,
   "id": "d8738b12",
   "metadata": {},
   "outputs": [
    {
     "data": {
      "text/plain": [
       "array([1])"
      ]
     },
     "execution_count": 8,
     "metadata": {},
     "output_type": "execute_result"
    }
   ],
   "source": [
    "# Predict class\n",
    "model.predict(new_observation)"
   ]
  },
  {
   "cell_type": "markdown",
   "id": "5ac90734",
   "metadata": {},
   "source": [
    "In this example our observation was predicted to be class 1. additionally, we ca see the proability that an observation is a member of each class."
   ]
  },
  {
   "cell_type": "code",
   "execution_count": 9,
   "id": "88705c5e",
   "metadata": {},
   "outputs": [
    {
     "data": {
      "text/plain": [
       "array([[0.17738424, 0.82261576]])"
      ]
     },
     "execution_count": 9,
     "metadata": {},
     "output_type": "execute_result"
    }
   ],
   "source": [
    "# View Predicted probabilties\n",
    "model.predict_proba(new_observation)"
   ]
  },
  {
   "cell_type": "markdown",
   "id": "f67bcfdf",
   "metadata": {},
   "source": [
    "Our observation had an 17.7% chance of being class 0 and 82.2% chance of being class 1"
   ]
  },
  {
   "cell_type": "code",
   "execution_count": null,
   "id": "0b16ca85",
   "metadata": {},
   "outputs": [],
   "source": []
  },
  {
   "cell_type": "markdown",
   "id": "636597c4",
   "metadata": {},
   "source": [
    "# Training a Multiclass Classifier"
   ]
  },
  {
   "cell_type": "markdown",
   "id": "d987e2e9",
   "metadata": {},
   "source": [
    "Given more than two classes, you need to train a classifier model\n",
    "Train a logistic regression in scikit learn with LogisticRegression using one vs rest or multinomial methods"
   ]
  },
  {
   "cell_type": "code",
   "execution_count": 22,
   "id": "53d4638a",
   "metadata": {},
   "outputs": [],
   "source": [
    "# Load Libraries\n",
    "\n",
    "from sklearn.linear_model import LogisticRegression\n",
    "from sklearn import datasets\n",
    "from sklearn.preprocessing import StandardScaler"
   ]
  },
  {
   "cell_type": "code",
   "execution_count": 23,
   "id": "1319ea49",
   "metadata": {},
   "outputs": [],
   "source": [
    "# Load data\n",
    "\n",
    "iris = datasets.load_iris()\n",
    "features = iris.data\n",
    "target = iris.target"
   ]
  },
  {
   "cell_type": "code",
   "execution_count": 24,
   "id": "dd95e28a",
   "metadata": {},
   "outputs": [],
   "source": [
    "# Standardize features\n",
    "scaler = StandardScaler()\n",
    "features_standardized = scaler.fit_transform(features)"
   ]
  },
  {
   "cell_type": "code",
   "execution_count": null,
   "id": "40387aad",
   "metadata": {},
   "outputs": [],
   "source": []
  },
  {
   "cell_type": "code",
   "execution_count": 25,
   "id": "2819fca3",
   "metadata": {},
   "outputs": [],
   "source": [
    "# create one vs rest (ovr) logistic regression object\n",
    "\n",
    "logistic_regression = LogisticRegression(random_state=0, multi_class='ovr')"
   ]
  },
  {
   "cell_type": "code",
   "execution_count": 26,
   "id": "a7405f60",
   "metadata": {},
   "outputs": [],
   "source": [
    "# Train model \n",
    "model = logistic_regression.fit(features_standardized, target)"
   ]
  },
  {
   "cell_type": "code",
   "execution_count": 27,
   "id": "aa56af38",
   "metadata": {},
   "outputs": [],
   "source": [
    "# Create new observation\n",
    "new_observation = [[.5,.5,.5,.5]]"
   ]
  },
  {
   "cell_type": "code",
   "execution_count": 28,
   "id": "11a81c15",
   "metadata": {},
   "outputs": [
    {
     "data": {
      "text/plain": [
       "array([2])"
      ]
     },
     "execution_count": 28,
     "metadata": {},
     "output_type": "execute_result"
    }
   ],
   "source": [
    "# Predict class\n",
    "model.predict(new_observation)"
   ]
  },
  {
   "cell_type": "code",
   "execution_count": 29,
   "id": "83d2d16d",
   "metadata": {},
   "outputs": [
    {
     "data": {
      "text/plain": [
       "array([[0.0387617 , 0.40669108, 0.55454723]])"
      ]
     },
     "execution_count": 29,
     "metadata": {},
     "output_type": "execute_result"
    }
   ],
   "source": [
    "# View Predicted probabilties\n",
    "model.predict_proba(new_observation)"
   ]
  },
  {
   "cell_type": "code",
   "execution_count": null,
   "id": "15b31148",
   "metadata": {},
   "outputs": [],
   "source": []
  },
  {
   "cell_type": "code",
   "execution_count": 30,
   "id": "d3d1707d",
   "metadata": {},
   "outputs": [],
   "source": [
    "# create 'multinomial' logistic regression object\n",
    "\n",
    "logistic_regression = LogisticRegression(random_state=0, multi_class='multinomial')"
   ]
  },
  {
   "cell_type": "code",
   "execution_count": 31,
   "id": "7b754c47",
   "metadata": {},
   "outputs": [],
   "source": [
    "# Train model \n",
    "model = logistic_regression.fit(features_standardized, target)"
   ]
  },
  {
   "cell_type": "code",
   "execution_count": 32,
   "id": "394eb41d",
   "metadata": {},
   "outputs": [],
   "source": [
    "# Create new observation\n",
    "new_observation = [[.5,.5,.5,.5]]"
   ]
  },
  {
   "cell_type": "code",
   "execution_count": 33,
   "id": "198fc426",
   "metadata": {},
   "outputs": [
    {
     "data": {
      "text/plain": [
       "array([1])"
      ]
     },
     "execution_count": 33,
     "metadata": {},
     "output_type": "execute_result"
    }
   ],
   "source": [
    "# Predict class\n",
    "model.predict(new_observation)"
   ]
  },
  {
   "cell_type": "code",
   "execution_count": 34,
   "id": "878e32e2",
   "metadata": {},
   "outputs": [
    {
     "data": {
      "text/plain": [
       "array([[0.01982185, 0.74491886, 0.23525928]])"
      ]
     },
     "execution_count": 34,
     "metadata": {},
     "output_type": "execute_result"
    }
   ],
   "source": [
    "# View Predicted probabilties\n",
    "model.predict_proba(new_observation)"
   ]
  },
  {
   "cell_type": "code",
   "execution_count": null,
   "id": "3d8bcd34",
   "metadata": {},
   "outputs": [],
   "source": []
  },
  {
   "cell_type": "markdown",
   "id": "9a9628ed",
   "metadata": {},
   "source": [
    "# Reducing Variance Through Regularization (for Logistic Regression)"
   ]
  },
  {
   "cell_type": "markdown",
   "id": "2df6fce0",
   "metadata": {},
   "source": [
    "You need to reduce the variance of your logistic regression model\n",
    "\n",
    "Tune the regularization strength hyperparameter, CV (cross validation)"
   ]
  },
  {
   "cell_type": "code",
   "execution_count": 35,
   "id": "7ff71159",
   "metadata": {},
   "outputs": [],
   "source": [
    "# Load Libraries\n",
    "from sklearn.linear_model import LogisticRegressionCV\n",
    "from sklearn import datasets\n",
    "from sklearn.preprocessing import StandardScaler"
   ]
  },
  {
   "cell_type": "code",
   "execution_count": 36,
   "id": "f70c0653",
   "metadata": {},
   "outputs": [],
   "source": [
    "# Load data\n",
    "iris = datasets.load_iris()\n",
    "features = iris.data\n",
    "target = iris.target"
   ]
  },
  {
   "cell_type": "code",
   "execution_count": 37,
   "id": "f1492085",
   "metadata": {},
   "outputs": [],
   "source": [
    "# Standardize features\n",
    "scaler = StandardScaler()\n",
    "features_standarized = scaler.fit_transform(features)"
   ]
  },
  {
   "cell_type": "code",
   "execution_count": 38,
   "id": "a0514bee",
   "metadata": {},
   "outputs": [],
   "source": [
    "# Create decision tree classifier object \n",
    "logistic_regression = LogisticRegressionCV(\n",
    "penalty='l2', Cs=10, random_state=0, n_jobs=-1)"
   ]
  },
  {
   "cell_type": "code",
   "execution_count": 39,
   "id": "f557ddd6",
   "metadata": {},
   "outputs": [],
   "source": [
    "# train model\n",
    "model = logistic_regression.fit(features_standardized, target)"
   ]
  },
  {
   "cell_type": "code",
   "execution_count": null,
   "id": "bfd17038",
   "metadata": {},
   "outputs": [],
   "source": []
  },
  {
   "cell_type": "markdown",
   "id": "bb607aee",
   "metadata": {},
   "source": [
    "# Training a clasifier on very large data"
   ]
  },
  {
   "cell_type": "markdown",
   "id": "c49543c6",
   "metadata": {},
   "source": [
    "You need to train a simple classifier model on a very large set of data.\n",
    "Train a logistic regression in scikit learn with LogisticRegression using the tochastic average gradient(SAG) solver."
   ]
  },
  {
   "cell_type": "code",
   "execution_count": 40,
   "id": "35238495",
   "metadata": {},
   "outputs": [],
   "source": [
    "# Load Libraries\n",
    "from sklearn.linear_model import LogisticRegression\n",
    "from sklearn import datasets\n",
    "from sklearn.preprocessing import StandardScaler"
   ]
  },
  {
   "cell_type": "code",
   "execution_count": 41,
   "id": "a7b74557",
   "metadata": {},
   "outputs": [],
   "source": [
    "# Load data\n",
    "iris = datasets.load_iris()\n",
    "features = iris.data\n",
    "target = iris.target"
   ]
  },
  {
   "cell_type": "code",
   "execution_count": 42,
   "id": "120de46a",
   "metadata": {},
   "outputs": [],
   "source": [
    "# Standardize features\n",
    "scaler = StandardScaler()\n",
    "features_standarized = scaler.fit_transform(features)"
   ]
  },
  {
   "cell_type": "code",
   "execution_count": 43,
   "id": "89a4df43",
   "metadata": {},
   "outputs": [],
   "source": [
    "# Create logistic regression object \n",
    "logistic_regression = LogisticRegression(random_state=0, solver='sag')"
   ]
  },
  {
   "cell_type": "code",
   "execution_count": 44,
   "id": "153e1856",
   "metadata": {},
   "outputs": [],
   "source": [
    "# train model\n",
    "model = logistic_regression.fit(features_standardized, target)"
   ]
  },
  {
   "cell_type": "code",
   "execution_count": null,
   "id": "75af66bb",
   "metadata": {},
   "outputs": [],
   "source": []
  },
  {
   "cell_type": "code",
   "execution_count": null,
   "id": "37491509",
   "metadata": {},
   "outputs": [],
   "source": []
  },
  {
   "cell_type": "code",
   "execution_count": null,
   "id": "1fbd4a2f",
   "metadata": {},
   "outputs": [],
   "source": []
  },
  {
   "cell_type": "code",
   "execution_count": null,
   "id": "3ec70889",
   "metadata": {},
   "outputs": [],
   "source": []
  },
  {
   "cell_type": "code",
   "execution_count": null,
   "id": "5cb9367d",
   "metadata": {},
   "outputs": [],
   "source": []
  }
 ],
 "metadata": {
  "kernelspec": {
   "display_name": "Python 3 (ipykernel)",
   "language": "python",
   "name": "python3"
  },
  "language_info": {
   "codemirror_mode": {
    "name": "ipython",
    "version": 3
   },
   "file_extension": ".py",
   "mimetype": "text/x-python",
   "name": "python",
   "nbconvert_exporter": "python",
   "pygments_lexer": "ipython3",
   "version": "3.10.7"
  }
 },
 "nbformat": 4,
 "nbformat_minor": 5
}
